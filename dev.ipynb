{
 "cells": [
  {
   "cell_type": "code",
   "execution_count": 1,
   "metadata": {},
   "outputs": [],
   "source": [
    "import requests\n",
    "import os\n",
    "import datetime\n",
    "\n",
    "\n",
    "### CHANGE PARAMS HERE ###\n",
    "img_path = '/code/everypixel/pictures/' #INSERT PATH HERE\n",
    "api_secret = \"sjkmZwk6mk82XtR622aDgoyAIRJpa0700YoeEJIdrmze9hOW\" #ADD SECRET HERE\n",
    "api_key = \"PY7JPmcJmlRaktG05ADnT2d1\" #ADD CLIENT ID HERE\n",
    "\n",
    "url_ver = \"https://api.everypixel.com/v1\""
   ]
  },
  {
   "cell_type": "code",
   "execution_count": null,
   "metadata": {},
   "outputs": [],
   "source": [
    "### DONT TOUCH ME BELOW ###\n",
    "files = [os.path.join(img_path,f) for f in os.listdir(img_path) if os.path.isfile(os.path.join(img_path,f))]\n",
    "for f in files:\n",
    "    with open(f,'rb') as image:\n",
    "        data = {'data': image}\n",
    "        keywords = requests.post('https://api.everypixel.com/v1/keywords', files=data, auth=(api_key, api_secret)).json()"
   ]
  }
 ],
 "metadata": {
  "kernelspec": {
   "display_name": "Python 3.9.12 ('base')",
   "language": "python",
   "name": "python3"
  },
  "language_info": {
   "codemirror_mode": {
    "name": "ipython",
    "version": 3
   },
   "file_extension": ".py",
   "mimetype": "text/x-python",
   "name": "python",
   "nbconvert_exporter": "python",
   "pygments_lexer": "ipython3",
   "version": "3.9.12"
  },
  "orig_nbformat": 4,
  "vscode": {
   "interpreter": {
    "hash": "2f394aca7ca06fed1e6064aef884364492d7cdda3614a461e02e6407fc40ba69"
   }
  }
 },
 "nbformat": 4,
 "nbformat_minor": 2
}
